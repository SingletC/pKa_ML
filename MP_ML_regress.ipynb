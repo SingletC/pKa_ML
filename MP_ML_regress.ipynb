{
 "cells": [
  {
   "cell_type": "code",
   "execution_count": 2,
   "metadata": {},
   "outputs": [],
   "source": [
    "\n",
    "# experimental mp data from OCHEM\n",
    "\n",
    "import os\n",
    "import xlrd\n",
    "import pandas as pd\n",
    "import numpy as np\n",
    "from Util import *\n",
    "from periodictable import elements\n"
   ]
  },
  {
   "cell_type": "code",
   "execution_count": null,
   "metadata": {},
   "outputs": [],
   "source": []
  },
  {
   "cell_type": "code",
   "execution_count": 3,
   "metadata": {},
   "outputs": [],
   "source": [
    "#m=smile_to_mol(\"CCSC([C@H](C1)N(C)[C@@H]2CC1=O)[C@H]2O\") #test\n",
    "dfexcel = pd.read_excel(r\"./melting_point_ochem_training_.xls\")"
   ]
  },
  {
   "cell_type": "code",
   "execution_count": 4,
   "metadata": {},
   "outputs": [],
   "source": [
    "df=pd.DataFrame(dfexcel['SMILES'])\n",
    "df.rename(columns={'SMILES':'Smiles'},inplace = True)\n",
    "df['mp']=pd.DataFrame(dfexcel['Melting Point {measured, converted}'])\n"
   ]
  },
  {
   "cell_type": "code",
   "execution_count": 6,
   "metadata": {},
   "outputs": [],
   "source": [
    "# read file and convert to 3d-mol save to pkl.\n",
    "df['m']=apply_parallel(df['Smiles'],smile_to_mol_df)             # apply_parallel smile_to_mol \n",
    "df.to_pickle(\"./temp_mp.pkl\")"
   ]
  },
  {
   "cell_type": "code",
   "execution_count": 7,
   "metadata": {},
   "outputs": [],
   "source": [
    "df=pd.read_pickle(\"./temp_mp.pkl\")"
   ]
  },
  {
   "cell_type": "code",
   "execution_count": 8,
   "metadata": {},
   "outputs": [],
   "source": [
    "df.dropna(subset=[\"mp\",\"Smiles\"],inplace=True)               # drop invaild data\n",
    "df['m_text']=df['m'].apply(mol_to_text)\n",
    "df['coord']=df['m_text'].apply(get_coordinate)               # get coordinate \n",
    "df['cm']=df['coord'].apply(coulomb_matrix)                   # get coulomb_matrix\n",
    "df.dropna(subset=[\"cm\"],inplace=True)                        # drop invaild data\n"
   ]
  },
  {
   "cell_type": "code",
   "execution_count": null,
   "metadata": {},
   "outputs": [],
   "source": []
  },
  {
   "cell_type": "code",
   "execution_count": 9,
   "metadata": {},
   "outputs": [],
   "source": [
    "# normalize & resize coulomb_matrix \n",
    "df['cm_length']=df['cm'].apply(len)\n",
    "df['cm_norm']=df['cm']/max_num(df['cm'])\n",
    "len_max=df['cm_length'].max()\n",
    "df['cm_resize']=df['cm_norm'].apply(lambda x: vec_resize(x,len_max))"
   ]
  },
  {
   "cell_type": "code",
   "execution_count": null,
   "metadata": {},
   "outputs": [],
   "source": []
  },
  {
   "cell_type": "code",
   "execution_count": null,
   "metadata": {},
   "outputs": [],
   "source": [
    "# convert obj to df for tf\n",
    "x_train=[]\n",
    "for i in df['cm_resize']:\n",
    "    x_train.append(i)\n",
    "dataset_all=pd.DataFrame(x_train)\n",
    "dataset_all['mp']=df['mp']\n",
    "dataset_all.dropna(inplace=True)\n",
    "dataset_all.reset_index(drop=True)"
   ]
  },
  {
   "cell_type": "code",
   "execution_count": 12,
   "metadata": {},
   "outputs": [],
   "source": [
    "train_data=dataset_all.sample(frac=0.9,random_state=0)\n",
    "test_data=dataset_all.drop(train_data.index)\n",
    "\n",
    "train_labels=train_data.pop('mp')\n",
    "\n",
    "train_data=train_data.reset_index(drop=True)\n",
    "train_labels=train_labels.reset_index(drop=True)\n",
    "\n",
    "test_labels=test_data.pop(('mp'))\n",
    "\n",
    "\n"
   ]
  },
  {
   "cell_type": "code",
   "execution_count": 38,
   "metadata": {},
   "outputs": [],
   "source": [
    "import tensorflow as tf\n",
    "from tensorflow import keras\n",
    "from tensorflow.keras import layers"
   ]
  },
  {
   "cell_type": "code",
   "execution_count": null,
   "metadata": {},
   "outputs": [],
   "source": []
  },
  {
   "cell_type": "code",
   "execution_count": 39,
   "metadata": {},
   "outputs": [],
   "source": [
    "def build_model():\n",
    "    model = keras.Sequential([\n",
    "    layers.Dense(64, activation='relu', input_shape=[len(train_data.keys())]),\n",
    "    layers.Dense(32, activation='relu'),\n",
    "    layers.Dense(1)\n",
    "         ])\n",
    "\n",
    "    optimizer = tf.keras.optimizers.RMSprop(0.001)\n",
    "\n",
    "    model.compile(loss='mse',\n",
    "                optimizer=optimizer,\n",
    "                metrics=['mae', 'mse'])\n",
    "    return model"
   ]
  },
  {
   "cell_type": "code",
   "execution_count": 40,
   "metadata": {},
   "outputs": [
    {
     "name": "stdout",
     "output_type": "stream",
     "text": [
      "Model: \"sequential_2\"\n",
      "_________________________________________________________________\n",
      "Layer (type)                 Output Shape              Param #   \n",
      "=================================================================\n",
      "dense_6 (Dense)              (None, 64)                10048     \n",
      "_________________________________________________________________\n",
      "dense_7 (Dense)              (None, 32)                2080      \n",
      "_________________________________________________________________\n",
      "dense_8 (Dense)              (None, 1)                 33        \n",
      "=================================================================\n",
      "Total params: 12,161\n",
      "Trainable params: 12,161\n",
      "Non-trainable params: 0\n",
      "_________________________________________________________________\n"
     ]
    }
   ],
   "source": [
    "model = build_model()\n",
    "model.summary()"
   ]
  },
  {
   "cell_type": "code",
   "execution_count": 24,
   "metadata": {},
   "outputs": [
    {
     "name": "stdout",
     "output_type": "stream",
     "text": [
      "\n",
      "....................................................................................................\n",
      "...................................................................................................."
     ]
    }
   ],
   "source": [
    "class PrintDot(keras.callbacks.Callback):\n",
    "    def on_epoch_end(self, epoch, logs):\n",
    "        if epoch % 100 == 0: print('')\n",
    "        print('.', end='')\n",
    "\n",
    "EPOCHS = 200\n",
    "\n",
    "history = model.fit(\n",
    "  train_data, train_labels,\n",
    "  epochs=EPOCHS, validation_split = 0.2, verbose=0,\n",
    "  callbacks=[PrintDot()])"
   ]
  },
  {
   "cell_type": "code",
   "execution_count": 28,
   "metadata": {},
   "outputs": [
    {
     "data": {
      "text/html": [
       "<div>\n",
       "<style scoped>\n",
       "    .dataframe tbody tr th:only-of-type {\n",
       "        vertical-align: middle;\n",
       "    }\n",
       "\n",
       "    .dataframe tbody tr th {\n",
       "        vertical-align: top;\n",
       "    }\n",
       "\n",
       "    .dataframe thead th {\n",
       "        text-align: right;\n",
       "    }\n",
       "</style>\n",
       "<table border=\"1\" class=\"dataframe\">\n",
       "  <thead>\n",
       "    <tr style=\"text-align: right;\">\n",
       "      <th></th>\n",
       "      <th>loss</th>\n",
       "      <th>mae</th>\n",
       "      <th>mse</th>\n",
       "      <th>val_loss</th>\n",
       "      <th>val_mae</th>\n",
       "      <th>val_mse</th>\n",
       "      <th>epoch</th>\n",
       "    </tr>\n",
       "  </thead>\n",
       "  <tbody>\n",
       "    <tr>\n",
       "      <th>195</th>\n",
       "      <td>6748.360840</td>\n",
       "      <td>65.502304</td>\n",
       "      <td>6748.360840</td>\n",
       "      <td>6934.926758</td>\n",
       "      <td>66.241356</td>\n",
       "      <td>6934.926758</td>\n",
       "      <td>195</td>\n",
       "    </tr>\n",
       "    <tr>\n",
       "      <th>196</th>\n",
       "      <td>6745.574219</td>\n",
       "      <td>65.435539</td>\n",
       "      <td>6745.574219</td>\n",
       "      <td>6930.555176</td>\n",
       "      <td>66.186035</td>\n",
       "      <td>6930.555176</td>\n",
       "      <td>196</td>\n",
       "    </tr>\n",
       "    <tr>\n",
       "      <th>197</th>\n",
       "      <td>6748.880859</td>\n",
       "      <td>65.480446</td>\n",
       "      <td>6748.880859</td>\n",
       "      <td>6929.506836</td>\n",
       "      <td>66.238976</td>\n",
       "      <td>6929.506836</td>\n",
       "      <td>197</td>\n",
       "    </tr>\n",
       "    <tr>\n",
       "      <th>198</th>\n",
       "      <td>6740.407227</td>\n",
       "      <td>65.414368</td>\n",
       "      <td>6740.407227</td>\n",
       "      <td>6925.238281</td>\n",
       "      <td>66.220627</td>\n",
       "      <td>6925.238281</td>\n",
       "      <td>198</td>\n",
       "    </tr>\n",
       "    <tr>\n",
       "      <th>199</th>\n",
       "      <td>6745.177246</td>\n",
       "      <td>65.389275</td>\n",
       "      <td>6745.177246</td>\n",
       "      <td>6940.420898</td>\n",
       "      <td>66.334236</td>\n",
       "      <td>6940.420898</td>\n",
       "      <td>199</td>\n",
       "    </tr>\n",
       "  </tbody>\n",
       "</table>\n",
       "</div>"
      ],
      "text/plain": [
       "            loss        mae          mse     val_loss    val_mae      val_mse  \\\n",
       "195  6748.360840  65.502304  6748.360840  6934.926758  66.241356  6934.926758   \n",
       "196  6745.574219  65.435539  6745.574219  6930.555176  66.186035  6930.555176   \n",
       "197  6748.880859  65.480446  6748.880859  6929.506836  66.238976  6929.506836   \n",
       "198  6740.407227  65.414368  6740.407227  6925.238281  66.220627  6925.238281   \n",
       "199  6745.177246  65.389275  6745.177246  6940.420898  66.334236  6940.420898   \n",
       "\n",
       "     epoch  \n",
       "195    195  \n",
       "196    196  \n",
       "197    197  \n",
       "198    198  \n",
       "199    199  "
      ]
     },
     "execution_count": 28,
     "metadata": {},
     "output_type": "execute_result"
    }
   ],
   "source": [
    "hist = pd.DataFrame(history.history)\n",
    "hist['epoch'] = history.epoch\n",
    "hist.tail()"
   ]
  },
  {
   "cell_type": "code",
   "execution_count": 29,
   "metadata": {},
   "outputs": [],
   "source": [
    "import matplotlib.pyplot as plt\n",
    "    "
   ]
  },
  {
   "cell_type": "code",
   "execution_count": 37,
   "metadata": {},
   "outputs": [
    {
     "data": {
      "image/png": "[encoded data removed]",
      "text/plain": [
       "<Figure size 432x288 with 1 Axes>"
      ]
     },
     "metadata": {
      "needs_background": "light"
     },
     "output_type": "display_data"
    },
    {
     "data": {
      "image/png": "[encoded data removed]",
      "text/plain": [
       "<Figure size 432x288 with 1 Axes>"
      ]
     },
     "metadata": {
      "needs_background": "light"
     },
     "output_type": "display_data"
    }
   ],
   "source": [
    "def plot_history(history):\n",
    "      hist = pd.DataFrame(history.history)\n",
    "      hist['epoch'] = history.epoch\n",
    "\n",
    "      plt.figure()\n",
    "      plt.xlabel('Epoch')\n",
    "      plt.ylabel('Mean Abs Error [MPG]')\n",
    "      plt.plot(hist['epoch'], hist['mae'],\n",
    "               label='Train Error')\n",
    "      plt.plot(hist['epoch'], hist['val_mae'],\n",
    "               label = 'Val Error')\n",
    "      plt.ylim([60,70])\n",
    "      plt.legend()\n",
    "\n",
    "      plt.figure()\n",
    "      plt.xlabel('Epoch')\n",
    "      plt.ylabel('Mean Square Error [$MPG^2$]')\n",
    "      plt.plot(hist['epoch'], hist['mse'],\n",
    "               label='Train Error')\n",
    "      plt.plot(hist['epoch'], hist['val_mse'],\n",
    "               label = 'Val Error')\n",
    "      plt.ylim([0,10000])\n",
    "      plt.legend()\n",
    "      plt.show()\n",
    "\n",
    "\n",
    "plot_history(history)"
   ]
  },
  {
   "cell_type": "code",
   "execution_count": null,
   "metadata": {},
   "outputs": [],
   "source": [
    "\n"
   ]
  }
 ],
 "metadata": {
  "kernelspec": {
   "display_name": "Python 3",
   "language": "python",
   "name": "python3"
  },
  "language_info": {
   "codemirror_mode": {
    "name": "ipython",
    "version": 3
   },
   "file_extension": ".py",
   "mimetype": "text/x-python",
   "name": "python",
   "nbconvert_exporter": "python",
   "pygments_lexer": "ipython3",
   "version": "3.6.12"
  }
 },
 "nbformat": 4,
 "nbformat_minor": 4
}
