{
 "cells": [
  {
   "cell_type": "code",
   "execution_count": 1,
   "metadata": {},
   "outputs": [],
   "source": [
    "# author Chong Teng\n",
    "# experimental pKa data from DataWarrior http://www.openmolecules.org/index.html\n",
    "\n",
    "import os\n",
    "import pandas as pd\n",
    "import numpy as np\n",
    "from Util import *\n",
    "from periodictable import elements"
   ]
  },
  {
   "cell_type": "code",
   "execution_count": null,
   "metadata": {},
   "outputs": [],
   "source": []
  },
  {
   "cell_type": "code",
   "execution_count": 2,
   "metadata": {},
   "outputs": [],
   "source": [
    "#m=smile_to_mol(\"CCSC([C@H](C1)N(C)[C@@H]2CC1=O)[C@H]2O\") #test\n",
    "df = pd.read_csv(r\"./pKaInWater.dwar\",sep=\"\t\")"
   ]
  },
  {
   "cell_type": "code",
   "execution_count": null,
   "metadata": {},
   "outputs": [],
   "source": [
    "# read file and convert to 3d-mol save to pkl.\n",
    "df['m']=df['Smiles'].apply(smile_to_mol)\n",
    "df.to_pickle(\"./temp.pkl\")"
   ]
  },
  {
   "cell_type": "code",
   "execution_count": 75,
   "metadata": {},
   "outputs": [],
   "source": [
    "df=pd.read_pickle(\"./temp.pkl\")"
   ]
  },
  {
   "cell_type": "code",
   "execution_count": 77,
   "metadata": {},
   "outputs": [],
   "source": [
    "df.dropna(subset=[\"pKa\",\"Smiles\"],inplace=True)               # drop invaild data\n",
    "df['m_text']=df['m'].apply(mol_to_text)\n",
    "df['coord']=df['m_text'].apply(get_coordinate)\n",
    "df['cm']=df['coord'].apply(coulomb_matrix)\n",
    "df.dropna(subset=[\"cm\"],inplace=True)                         # drop invaild data\n"
   ]
  },
  {
   "cell_type": "code",
   "execution_count": null,
   "metadata": {},
   "outputs": [],
   "source": []
  },
  {
   "cell_type": "code",
   "execution_count": 78,
   "metadata": {},
   "outputs": [],
   "source": [
    "# normalize & resize coulomb_matrix \n",
    "df['cm_length']=df['cm'].apply(len)\n",
    "df['cm_norm']=df['cm']/max_num(df['cm'])\n",
    "len_max=df['cm_length'].max()\n",
    "df['cm_resize']=df['cm_norm'].apply(lambda x: vec_resize(x,len_max))\n",
    "df.dropna(inplace=True)"
   ]
  },
  {
   "cell_type": "code",
   "execution_count": null,
   "metadata": {},
   "outputs": [],
   "source": []
  },
  {
   "cell_type": "code",
   "execution_count": 79,
   "metadata": {},
   "outputs": [],
   "source": [
    "# map acid/base to 0/1\n",
    "df['ab']=df['basicOrAcidic'].map({'acidic':0,'basic':1})"
   ]
  },
  {
   "cell_type": "code",
   "execution_count": null,
   "metadata": {},
   "outputs": [],
   "source": []
  },
  {
   "cell_type": "code",
   "execution_count": 80,
   "metadata": {},
   "outputs": [],
   "source": [
    "# convert obj to df for tf\n",
    "x_train=[]\n",
    "for i in df['cm_resize']:\n",
    "    x_train.append(i)\n",
    "dataset_all=pd.DataFrame(x_train)\n",
    "dataset_all['ab']=df['ab']\n",
    "dataset_all['pKa']=df['pKa']\n",
    "dataset_all.dropna(inplace=True)"
   ]
  },
  {
   "cell_type": "code",
   "execution_count": 81,
   "metadata": {},
   "outputs": [],
   "source": [
    "train_data=dataset_all.sample(frac=0.9,random_state=0)\n",
    "test_data=dataset_all.drop(train_data.index)\n",
    "\n",
    "train_labels=train_data.pop('pKa')\n",
    "\n",
    "train_data=train_data.reset_index(drop=True)\n",
    "train_labels=train_labels.reset_index(drop=True)\n",
    "\n",
    "test_labels=test_data.pop(('pKa'))\n",
    "\n",
    "\n"
   ]
  },
  {
   "cell_type": "code",
   "execution_count": 83,
   "metadata": {},
   "outputs": [],
   "source": [
    "import tensorflow as tf\n",
    "from tensorflow import keras\n",
    "from tensorflow.keras import layers"
   ]
  },
  {
   "cell_type": "code",
   "execution_count": 86,
   "metadata": {},
   "outputs": [],
   "source": [
    "def build_model():\n",
    "    model = keras.Sequential([\n",
    "    layers.Dense(64, activation='relu', input_shape=[len(train_data.keys())]),\n",
    "    layers.Dense(64, activation='relu'),\n",
    "    layers.Dense(1)\n",
    "         ])\n",
    "\n",
    "    optimizer = tf.keras.optimizers.RMSprop(0.001)\n",
    "\n",
    "    model.compile(loss='mse',\n",
    "                optimizer=optimizer,\n",
    "                metrics=['mae', 'mse'])\n",
    "    return model"
   ]
  },
  {
   "cell_type": "code",
   "execution_count": 87,
   "metadata": {},
   "outputs": [
    {
     "name": "stdout",
     "output_type": "stream",
     "text": [
      "Model: \"sequential_4\"\n",
      "_________________________________________________________________\n",
      "Layer (type)                 Output Shape              Param #   \n",
      "=================================================================\n",
      "dense_12 (Dense)             (None, 64)                7616      \n",
      "_________________________________________________________________\n",
      "dense_13 (Dense)             (None, 64)                4160      \n",
      "_________________________________________________________________\n",
      "dense_14 (Dense)             (None, 1)                 65        \n",
      "=================================================================\n",
      "Total params: 11,841\n",
      "Trainable params: 11,841\n",
      "Non-trainable params: 0\n",
      "_________________________________________________________________\n"
     ]
    }
   ],
   "source": [
    "model = build_model()\n",
    "model.summary()"
   ]
  },
  {
   "cell_type": "code",
   "execution_count": 88,
   "metadata": {},
   "outputs": [
    {
     "name": "stdout",
     "output_type": "stream",
     "text": [
      "\n",
      "...................................................................................................."
     ]
    }
   ],
   "source": [
    "class PrintDot(keras.callbacks.Callback):\n",
    "    def on_epoch_end(self, epoch, logs):\n",
    "        if epoch % 100 == 0: print('')\n",
    "        print('.', end='')\n",
    "\n",
    "EPOCHS = 100\n",
    "\n",
    "history = model.fit(\n",
    "  train_data, train_labels,\n",
    "  epochs=EPOCHS, validation_split = 0.2, verbose=0,\n",
    "  callbacks=[PrintDot()])"
   ]
  },
  {
   "cell_type": "code",
   "execution_count": 89,
   "metadata": {},
   "outputs": [],
   "source": [
    "import matplotlib.pyplot as plt\n",
    "    "
   ]
  },
  {
   "cell_type": "code",
   "execution_count": 91,
   "metadata": {},
   "outputs": [
    {
     "data": {
      "image/png": "[encoded data removed]",
      "text/plain": [
       "<Figure size 432x288 with 1 Axes>"
      ]
     },
     "metadata": {
      "needs_background": "light"
     },
     "output_type": "display_data"
    },
    {
     "data": {
      "image/png": "[encoded data removed]",
      "text/plain": [
       "<Figure size 432x288 with 1 Axes>"
      ]
     },
     "metadata": {
      "needs_background": "light"
     },
     "output_type": "display_data"
    }
   ],
   "source": [
    "def plot_history(history):\n",
    "      hist = pd.DataFrame(history.history)\n",
    "      hist['epoch'] = history.epoch\n",
    "\n",
    "      plt.figure()\n",
    "      plt.xlabel('Epoch')\n",
    "      plt.ylabel('Mean Abs Error [MPG]')\n",
    "      plt.plot(hist['epoch'], hist['mae'],\n",
    "               label='Train Error')\n",
    "      plt.plot(hist['epoch'], hist['val_mae'],\n",
    "               label = 'Val Error')\n",
    "      plt.ylim([0,5])\n",
    "      plt.legend()\n",
    "\n",
    "      plt.figure()\n",
    "      plt.xlabel('Epoch')\n",
    "      plt.ylabel('Mean Square Error [$MPG^2$]')\n",
    "      plt.plot(hist['epoch'], hist['mse'],\n",
    "               label='Train Error')\n",
    "      plt.plot(hist['epoch'], hist['val_mse'],\n",
    "               label = 'Val Error')\n",
    "      plt.ylim([0,20])\n",
    "      plt.legend()\n",
    "      plt.show()\n",
    "\n",
    "\n",
    "plot_history(history)"
   ]
  }
 ],
 "metadata": {
  "kernelspec": {
   "display_name": "Python 3",
   "language": "python",
   "name": "python3"
  },
  "language_info": {
   "codemirror_mode": {
    "name": "ipython",
    "version": 3
   },
   "file_extension": ".py",
   "mimetype": "text/x-python",
   "name": "python",
   "nbconvert_exporter": "python",
   "pygments_lexer": "ipython3",
   "version": "3.6.12"
  }
 },
 "nbformat": 4,
 "nbformat_minor": 4
}
